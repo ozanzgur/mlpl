{
 "cells": [
  {
   "cell_type": "markdown",
   "metadata": {},
   "source": [
    "#### Step 1 - Train a baseline model and test"
   ]
  },
  {
   "cell_type": "code",
   "execution_count": 1,
   "metadata": {},
   "outputs": [],
   "source": [
    "from mlpl import fe, prep, models, vis, utils\n",
    "from mlpl.pipetools import pipe, pmodels, pdefaults, dt\n",
    "\n",
    "import pandas as pd\n",
    "import numpy as np\n",
    "from sklearn.model_selection import KFold\n",
    "import sklearn\n",
    "import os\n",
    "from hyperopt import hp\n",
    "import warnings\n",
    "from sklearn.linear_model import LogisticRegression\n",
    "from sklearn.metrics import accuracy_score\n",
    "\n",
    "warnings.filterwarnings('ignore')\n",
    "pd.set_option('precision', 3)\n",
    "pd.set_option('float_format', '{:.3f}'.format)\n",
    "example_sub_path = 'data/gender_submission.csv'\n",
    "####################\n",
    "# Load data\n",
    "sub = pd.read_csv(example_sub_path)\n",
    "np.random.seed(42)"
   ]
  },
  {
   "cell_type": "markdown",
   "metadata": {},
   "source": [
    "### Create Pipeline"
   ]
  },
  {
   "cell_type": "code",
   "execution_count": 2,
   "metadata": {},
   "outputs": [
    {
     "name": "stdout",
     "output_type": "stream",
     "text": [
      "No project found, creating...\n",
      "random_seed_count: 1\n",
      "line_search_param_count: 1\n",
      "line_search_iteration_count: 1\n",
      "\n",
      "Model will run at least 2 times for each step.\n",
      "Formula is: 2 * line_search_iteration_count * random_seed_count * line_search_param_count\n",
      "Loading data...\n",
      "cols_to_drop does not exist.\n",
      "Saving baseline function\n",
      "No baseline model was found.\n",
      "No model_params was found.\n",
      "Saved project to lr_pipeline\n"
     ]
    }
   ],
   "source": [
    "label_name = 'Survived'\n",
    "trn_path = 'data/train.csv'\n",
    "test_path = 'data/test.csv'\n",
    "\n",
    "# Pipeline class will keep track of your processed files, model metrics and experiments. \n",
    "lr_pipeline = pipe.Pipeline(label_name = label_name,\n",
    "                            overwrite = True,\n",
    "                            project_path = 'lr_pipeline',\n",
    "                            train_data_path = trn_path,\n",
    "                            test_data_path = test_path,\n",
    "                            minimize_metric = False,\n",
    "                            useful_limit = 0.001,\n",
    "                            line_search_iter = 1,\n",
    "                            n_random_seeds = 1,\n",
    "                            bayesian_search_iter= 50,\n",
    "                            bayesian_search_count = 1,\n",
    "                            final_bayesian_search_iter = 0,\n",
    "                            line_search_patience = 2,\n",
    "                            line_search_params = {'C': (1e-7, 1e3)})"
   ]
  },
  {
   "cell_type": "markdown",
   "metadata": {},
   "source": [
    "### Add baseline step"
   ]
  },
  {
   "cell_type": "code",
   "execution_count": 3,
   "metadata": {},
   "outputs": [],
   "source": [
    "fixed_params_lr = dict(score=accuracy_score,\n",
    "                       model=sklearn.linear_model.LogisticRegression,                       \n",
    "                       max_iter=5000,\n",
    "                       verbose = 0,\n",
    "                       n_jobs = 3,\n",
    "                       model_type = 'linear',\n",
    "                       folds=[KFold(n_splits= 5, shuffle = True, random_state = 42),\n",
    "                              KFold(n_splits= 5, shuffle = True, random_state = 13),\n",
    "                              KFold(n_splits= 5, shuffle = True, random_state = 100)\n",
    "                              ])\n",
    "\n",
    "\n",
    "lr_search_space = dict(C = hp.loguniform('C', -7, 3),\n",
    "                       class_weight =  hp.choice('class_weight', ['balanced', None]),\n",
    "                       solver =  hp.choice('solver ', ['lbfgs', 'sag']),\n",
    "                       )\n",
    "\n",
    "lr_pipeline.set_baseline_step(model = pmodels.train_sklearn_pipeline,\n",
    "                                proc = pdefaults.default_sklearn_preprocess,\n",
    "                                search_model_params= lr_search_space,\n",
    "                                fixed_model_params = fixed_params_lr\n",
    "                               )\n"
   ]
  },
  {
   "cell_type": "markdown",
   "metadata": {},
   "source": [
    "### Run baseline and get test predictions"
   ]
  },
  {
   "cell_type": "code",
   "execution_count": 4,
   "metadata": {},
   "outputs": [
    {
     "data": {
      "text/html": [
       "\n",
       "            <style>\n",
       "                .collapsible {\n",
       "                  background-color: #777;\n",
       "                  color: white;\n",
       "                  cursor: pointer;\n",
       "                  padding: 18px;\n",
       "                  text-align: left;\n",
       "                  outline: none;\n",
       "                  font-size: 15px;\n",
       "                  font-weight: 700;\n",
       "                  border-radius: 5px 5px 5px 5px;\n",
       "                }\n",
       "                .active, .collapsible:hover {\n",
       "                  background-color: #555;\n",
       "                }\n",
       "                \n",
       "                .container {\n",
       "                  display: none;\n",
       "                  background-color: inherit;\n",
       "                }\n",
       "                </style>\n",
       "          <div style=\"border:2px solid; border-radius: 15px; display: block; padding:2em; background: None\"><div style= \"font-size:large;color:None;font-weight:700\">Baseline Step</div><div style= \"font-size:initial;color:None;font-weight:400\">feature_properties not provided, calculating feature_properties...</div></div><div></div><button type=\"button\" style=\"width: 97%; border: 1px solid #4E4E4E\" class=\"collapsible collapsible_box\"><span style= \"font-size:{};;font-weight:700\">Baseline: 0.7994601719917144</span></button><div style=\"border:2px solid; border-radius: 15px; display: none; padding:2em; background: None\"><div></div><button type=\"button\" style=\"width: 97%\" class=\"collapsible\">Processing</button><div class=\"div.input_area container\"><div style= \"font-size:initial;color:None;font-weight:400\">Don't use ['PassengerId', 'Name'], as they have full_unique_ratio > 0.99</div><div style= \"font-size:initial;color:None;font-weight:400\"></div><div style= \"font-size:initial;color:None;font-weight:400\">Don't use inconsistent features: ['PassengerId']</div><div style= \"font-size:initial;color:None;font-weight:400\"></div><div style= \"font-size:initial;color:None;font-weight:400\">Label encode ['Cabin', 'Sex', 'Embarked', 'Ticket']</div><div style= \"font-size:initial;color:None;font-weight:400\"><b>NEW COLS:</b></div><div style= \"font-size:initial;color:None;font-weight:400\">label_encode_Cabin</div><div style= \"font-size:initial;color:None;font-weight:400\">label_encode_Embarked</div><div style= \"font-size:initial;color:None;font-weight:400\">label_encode_Sex</div><div style= \"font-size:initial;color:None;font-weight:400\">label_encode_Ticket</div><div style= \"font-size:initial;color:None;font-weight:400\"></div><div style= \"font-size:initial;color:None;font-weight:400\"></div><div style= \"font-size:initial;color:None;font-weight:400\"><b>PROCESS DENSE COLS: </b></div><div style= \"font-size:initial;color:None;font-weight:400\">   - Impute with median</div><div style= \"font-size:initial;color:None;font-weight:400\">Age</div><div style= \"font-size:initial;color:None;font-weight:400\">Fare</div><div style= \"font-size:initial;color:None;font-weight:400\"></div><div style= \"font-size:initial;color:None;font-weight:400\"></div><div style= \"font-size:initial;color:None;font-weight:400\"><b>PROCESS NOMINAL COLS:</b></div><div style= \"font-size:initial;color:None;font-weight:400\">   - Fillna(\"mode\")</div><div style= \"font-size:initial;color:None;font-weight:400\">   - Label encode</div><div style= \"font-size:initial;color:None;font-weight:400\">   - Convert to category</div><div style= \"font-size:initial;color:None;font-weight:400\">label_encode_Cabin</div><div style= \"font-size:initial;color:None;font-weight:400\">label_encode_Embarked</div><div style= \"font-size:initial;color:None;font-weight:400\"></div><div style= \"font-size:initial;color:None;font-weight:400\"><b>New columns:</b></div><div style= \"font-size:initial;color:None;font-weight:400\">['process_dense_Age', 'process_dense_Fare', 'process_nominal_label_encode_Cabin', 'process_nominal_label_encode_Embarked']</div><div style= \"font-size:initial;color:None;font-weight:400\"><table border=\"1\" class=\"dataframe\"></div><div style= \"font-size:initial;color:None;font-weight:400\">  <thead></div><div style= \"font-size:initial;color:None;font-weight:400\">    <tr style=\"text-align: right;\"></div><div style= \"font-size:initial;color:None;font-weight:400\">      <th></th></div><div style= \"font-size:initial;color:None;font-weight:400\">      <th>feature</th></div><div style= \"font-size:initial;color:None;font-weight:400\">      <th>dtype</th></div><div style= \"font-size:initial;color:None;font-weight:400\">      <th>full_null_ratio</th></div><div style= \"font-size:initial;color:None;font-weight:400\">      <th>to_use</th></div><div style= \"font-size:initial;color:None;font-weight:400\">    </tr></div><div style= \"font-size:initial;color:None;font-weight:400\">  </thead></div><div style= \"font-size:initial;color:None;font-weight:400\">  <tbody></div><div style= \"font-size:initial;color:None;font-weight:400\">    <tr></div><div style= \"font-size:initial;color:None;font-weight:400\">      <th>18</th></div><div style= \"font-size:initial;color:None;font-weight:400\">      <td>process_nominal_label_encode_Embarked</td></div><div style= \"font-size:initial;color:None;font-weight:400\">      <td>category</td></div><div style= \"font-size:initial;color:None;font-weight:400\">      <td>0.000</td></div><div style= \"font-size:initial;color:None;font-weight:400\">      <td>Yes</td></div><div style= \"font-size:initial;color:None;font-weight:400\">    </tr></div><div style= \"font-size:initial;color:None;font-weight:400\">    <tr></div><div style= \"font-size:initial;color:None;font-weight:400\">      <th>11</th></div><div style= \"font-size:initial;color:None;font-weight:400\">      <td>label_encode_Sex</td></div><div style= \"font-size:initial;color:None;font-weight:400\">      <td>category</td></div><div style= \"font-size:initial;color:None;font-weight:400\">      <td>0.000</td></div><div style= \"font-size:initial;color:None;font-weight:400\">      <td>Yes</td></div><div style= \"font-size:initial;color:None;font-weight:400\">    </tr></div><div style= \"font-size:initial;color:None;font-weight:400\">    <tr></div><div style= \"font-size:initial;color:None;font-weight:400\">      <th>17</th></div><div style= \"font-size:initial;color:None;font-weight:400\">      <td>process_nominal_label_encode_Cabin</td></div><div style= \"font-size:initial;color:None;font-weight:400\">      <td>category</td></div><div style= \"font-size:initial;color:None;font-weight:400\">      <td>0.000</td></div><div style= \"font-size:initial;color:None;font-weight:400\">      <td>Yes</td></div><div style= \"font-size:initial;color:None;font-weight:400\">    </tr></div><div style= \"font-size:initial;color:None;font-weight:400\">    <tr></div><div style= \"font-size:initial;color:None;font-weight:400\">      <th>16</th></div><div style= \"font-size:initial;color:None;font-weight:400\">      <td>process_dense_Fare</td></div><div style= \"font-size:initial;color:None;font-weight:400\">      <td>float</td></div><div style= \"font-size:initial;color:None;font-weight:400\">      <td>0.000</td></div><div style= \"font-size:initial;color:None;font-weight:400\">      <td>Yes</td></div><div style= \"font-size:initial;color:None;font-weight:400\">    </tr></div><div style= \"font-size:initial;color:None;font-weight:400\">    <tr></div><div style= \"font-size:initial;color:None;font-weight:400\">      <th>15</th></div><div style= \"font-size:initial;color:None;font-weight:400\">      <td>process_dense_Age</td></div><div style= \"font-size:initial;color:None;font-weight:400\">      <td>float</td></div><div style= \"font-size:initial;color:None;font-weight:400\">      <td>0.000</td></div><div style= \"font-size:initial;color:None;font-weight:400\">      <td>Yes</td></div><div style= \"font-size:initial;color:None;font-weight:400\">    </tr></div><div style= \"font-size:initial;color:None;font-weight:400\">    <tr></div><div style= \"font-size:initial;color:None;font-weight:400\">      <th>5</th></div><div style= \"font-size:initial;color:None;font-weight:400\">      <td>SibSp</td></div><div style= \"font-size:initial;color:None;font-weight:400\">      <td>int</td></div><div style= \"font-size:initial;color:None;font-weight:400\">      <td>0.000</td></div><div style= \"font-size:initial;color:None;font-weight:400\">      <td>Yes</td></div><div style= \"font-size:initial;color:None;font-weight:400\">    </tr></div><div style= \"font-size:initial;color:None;font-weight:400\">    <tr></div><div style= \"font-size:initial;color:None;font-weight:400\">      <th>6</th></div><div style= \"font-size:initial;color:None;font-weight:400\">      <td>Parch</td></div><div style= \"font-size:initial;color:None;font-weight:400\">      <td>int</td></div><div style= \"font-size:initial;color:None;font-weight:400\">      <td>0.000</td></div><div style= \"font-size:initial;color:None;font-weight:400\">      <td>Yes</td></div><div style= \"font-size:initial;color:None;font-weight:400\">    </tr></div><div style= \"font-size:initial;color:None;font-weight:400\">    <tr></div><div style= \"font-size:initial;color:None;font-weight:400\">      <th>1</th></div><div style= \"font-size:initial;color:None;font-weight:400\">      <td>Pclass</td></div><div style= \"font-size:initial;color:None;font-weight:400\">      <td>int</td></div><div style= \"font-size:initial;color:None;font-weight:400\">      <td>0.000</td></div><div style= \"font-size:initial;color:None;font-weight:400\">      <td>Yes</td></div><div style= \"font-size:initial;color:None;font-weight:400\">    </tr></div><div style= \"font-size:initial;color:None;font-weight:400\">    <tr></div><div style= \"font-size:initial;color:None;font-weight:400\">      <th>12</th></div><div style= \"font-size:initial;color:None;font-weight:400\">      <td>label_encode_Ticket</td></div><div style= \"font-size:initial;color:None;font-weight:400\">      <td>category</td></div><div style= \"font-size:initial;color:None;font-weight:400\">      <td>0.000</td></div><div style= \"font-size:initial;color:None;font-weight:400\">      <td>Yes</td></div><div style= \"font-size:initial;color:None;font-weight:400\">    </tr></div><div style= \"font-size:initial;color:None;font-weight:400\">    <tr></div><div style= \"font-size:initial;color:None;font-weight:400\">      <th>14</th></div><div style= \"font-size:initial;color:None;font-weight:400\">      <td>label_encode_Embarked</td></div><div style= \"font-size:initial;color:None;font-weight:400\">      <td>category</td></div><div style= \"font-size:initial;color:None;font-weight:400\">      <td>0.002</td></div><div style= \"font-size:initial;color:None;font-weight:400\">      <td>No</td></div><div style= \"font-size:initial;color:None;font-weight:400\">    </tr></div><div style= \"font-size:initial;color:None;font-weight:400\">    <tr></div><div style= \"font-size:initial;color:None;font-weight:400\">      <th>13</th></div><div style= \"font-size:initial;color:None;font-weight:400\">      <td>label_encode_Cabin</td></div><div style= \"font-size:initial;color:None;font-weight:400\">      <td>category</td></div><div style= \"font-size:initial;color:None;font-weight:400\">      <td>0.775</td></div><div style= \"font-size:initial;color:None;font-weight:400\">      <td>No</td></div><div style= \"font-size:initial;color:None;font-weight:400\">    </tr></div><div style= \"font-size:initial;color:None;font-weight:400\">    <tr></div><div style= \"font-size:initial;color:None;font-weight:400\">      <th>0</th></div><div style= \"font-size:initial;color:None;font-weight:400\">      <td>PassengerId</td></div><div style= \"font-size:initial;color:None;font-weight:400\">      <td>int</td></div><div style= \"font-size:initial;color:None;font-weight:400\">      <td>0.000</td></div><div style= \"font-size:initial;color:None;font-weight:400\">      <td>No</td></div><div style= \"font-size:initial;color:None;font-weight:400\">    </tr></div><div style= \"font-size:initial;color:None;font-weight:400\">    <tr></div><div style= \"font-size:initial;color:None;font-weight:400\">      <th>10</th></div><div style= \"font-size:initial;color:None;font-weight:400\">      <td>Embarked</td></div><div style= \"font-size:initial;color:None;font-weight:400\">      <td>object</td></div><div style= \"font-size:initial;color:None;font-weight:400\">      <td>0.002</td></div><div style= \"font-size:initial;color:None;font-weight:400\">      <td>No</td></div><div style= \"font-size:initial;color:None;font-weight:400\">    </tr></div><div style= \"font-size:initial;color:None;font-weight:400\">    <tr></div><div style= \"font-size:initial;color:None;font-weight:400\">      <th>8</th></div><div style= \"font-size:initial;color:None;font-weight:400\">      <td>Fare</td></div><div style= \"font-size:initial;color:None;font-weight:400\">      <td>float</td></div><div style= \"font-size:initial;color:None;font-weight:400\">      <td>0.001</td></div><div style= \"font-size:initial;color:None;font-weight:400\">      <td>No</td></div><div style= \"font-size:initial;color:None;font-weight:400\">    </tr></div><div style= \"font-size:initial;color:None;font-weight:400\">    <tr></div><div style= \"font-size:initial;color:None;font-weight:400\">      <th>7</th></div><div style= \"font-size:initial;color:None;font-weight:400\">      <td>Ticket</td></div><div style= \"font-size:initial;color:None;font-weight:400\">      <td>object</td></div><div style= \"font-size:initial;color:None;font-weight:400\">      <td>0.000</td></div><div style= \"font-size:initial;color:None;font-weight:400\">      <td>No</td></div><div style= \"font-size:initial;color:None;font-weight:400\">    </tr></div><div style= \"font-size:initial;color:None;font-weight:400\">    <tr></div><div style= \"font-size:initial;color:None;font-weight:400\">      <th>4</th></div><div style= \"font-size:initial;color:None;font-weight:400\">      <td>Age</td></div><div style= \"font-size:initial;color:None;font-weight:400\">      <td>float</td></div><div style= \"font-size:initial;color:None;font-weight:400\">      <td>0.201</td></div><div style= \"font-size:initial;color:None;font-weight:400\">      <td>No</td></div><div style= \"font-size:initial;color:None;font-weight:400\">    </tr></div><div style= \"font-size:initial;color:None;font-weight:400\">    <tr></div><div style= \"font-size:initial;color:None;font-weight:400\">      <th>3</th></div><div style= \"font-size:initial;color:None;font-weight:400\">      <td>Sex</td></div><div style= \"font-size:initial;color:None;font-weight:400\">      <td>object</td></div><div style= \"font-size:initial;color:None;font-weight:400\">      <td>0.000</td></div><div style= \"font-size:initial;color:None;font-weight:400\">      <td>No</td></div><div style= \"font-size:initial;color:None;font-weight:400\">    </tr></div><div style= \"font-size:initial;color:None;font-weight:400\">    <tr></div><div style= \"font-size:initial;color:None;font-weight:400\">      <th>2</th></div><div style= \"font-size:initial;color:None;font-weight:400\">      <td>Name</td></div><div style= \"font-size:initial;color:None;font-weight:400\">      <td>object</td></div><div style= \"font-size:initial;color:None;font-weight:400\">      <td>0.000</td></div><div style= \"font-size:initial;color:None;font-weight:400\">      <td>No</td></div><div style= \"font-size:initial;color:None;font-weight:400\">    </tr></div><div style= \"font-size:initial;color:None;font-weight:400\">    <tr></div><div style= \"font-size:initial;color:None;font-weight:400\">      <th>9</th></div><div style= \"font-size:initial;color:None;font-weight:400\">      <td>Cabin</td></div><div style= \"font-size:initial;color:None;font-weight:400\">      <td>object</td></div><div style= \"font-size:initial;color:None;font-weight:400\">      <td>0.775</td></div><div style= \"font-size:initial;color:None;font-weight:400\">      <td>No</td></div><div style= \"font-size:initial;color:None;font-weight:400\">    </tr></div><div style= \"font-size:initial;color:None;font-weight:400\">  </tbody></div><div style= \"font-size:initial;color:None;font-weight:400\"></table></div><div style= \"font-size:initial;color:None;font-weight:400\"></div></div>\n",
       "        <style>\n",
       "        hr { \n",
       "          display: block;\n",
       "          margin-top: 0.5em;\n",
       "          margin-bottom: 0.5em;\n",
       "          margin-left: auto;\n",
       "          margin-right: auto;\n",
       "          border-style: inset;\n",
       "          border-width: 1px;\n",
       "        } \n",
       "        </style> <hr><div></div><button type=\"button\" style=\"width: 97%\" class=\"collapsible\">Training</button><div class=\"div.input_area container\"><div style= \"font-size:large;color:None;font-weight:700\">Columns to use: </div><span style= \"font-size:initial;color:None;font-weight:400\">['Parch', 'Pclass', 'SibSp', 'label_encode_Sex', 'label_encode_Ticket', 'process_dense_Age', 'process_dense_Fare', 'process_nominal_label_encode_Cabin', 'process_nominal_label_encode_Embarked']</span><div style= \"font-size:initial;color:None;font-weight:400\">Do bayesian search</div><div style= \"font-size:large;color:None;font-weight:700\">Bayesian search:</div><span style= \"font-size:initial;color:None;font-weight:400\">1/1</span><div style= \"font-size:large;color:None;font-weight:700\">Mean metric: </div><span style= \"font-size:initial;color:None;font-weight:400\">0.7994601719917144</span><div style= \"font-size:large;color:None;font-weight:700\">Dev. of metric: </div><span style= \"font-size:initial;color:None;font-weight:400\">0.031629171445672365</span><div style= \"font-size:large;color:None;font-weight:700\">Selected Params: </div><span style= \"font-size:initial;color:None;font-weight:400\">{'C': 0.010353809756771378, 'class_weight': None, 'solver': 'sag', 'score': <function accuracy_score at 0x00000289028FB268>, 'model': <class 'sklearn.linear_model.logistic.LogisticRegression'>, 'max_iter': 5000, 'verbose': 0, 'n_jobs': 3, 'model_type': 'linear', 'folds': [KFold(n_splits=5, random_state=42, shuffle=True), KFold(n_splits=5, random_state=13, shuffle=True), KFold(n_splits=5, random_state=100, shuffle=True)]}</span></div><div style= \"font-size:initial;color:None;font-weight:400\">Saving hparams.</div><div style= \"font-size:initial;color:None;font-weight:400\">Step took 1m 17s</div></div>\n",
       "        <style>\n",
       "        hr { \n",
       "          display: block;\n",
       "          margin-top: 0.5em;\n",
       "          margin-bottom: 0.5em;\n",
       "          margin-left: auto;\n",
       "          margin-right: auto;\n",
       "          border-style: inset;\n",
       "          border-width: 1px;\n",
       "        } \n",
       "        </style> <hr><div style= \"font-size:large;color:None;font-weight:700\">Baseline metric: </div><span style= \"font-size:initial;color:None;font-weight:400\">0.7994601719917144</span>      <script>\n",
       "                    var coll = document.getElementsByClassName(\"collapsible\");\n",
       "                    var i;\n",
       "        \n",
       "                    for (i = 0; i < coll.length; i++) {\n",
       "                      coll[i].addEventListener(\"click\", function() {\n",
       "                        this.classList.toggle(\"active\");\n",
       "                        var content = this.nextElementSibling;\n",
       "                        if (content.style.display === \"none\") {\n",
       "                          content.style.display = \"block\";\n",
       "                          this.style.borderBottomLeftRadius = \"1px\";\n",
       "                          this.style.borderBottomRightRadius = \"1px\";\n",
       "                          content.style.borderTopLeftRadius = \"1px\";\n",
       "                          content.style.borderTopRightRadius = \"1px\";\n",
       "                          \n",
       "                        } else {\n",
       "                            if (content.style.display === \"block\") {\n",
       "                              content.style.display = \"none\";\n",
       "                              this.style.borderBottomLeftRadius = \"5px\";\n",
       "                              this.style.borderBottomRightRadius = \"5px\";\n",
       "                              } else {\n",
       "                                  content.style.display = \"block\";\n",
       "                                  this.style.borderBottomLeftRadius = \"1px\";\n",
       "                                  this.style.borderBottomRightRadius = \"1px\";\n",
       "                                  content.style.borderTopLeftRadius = \"1px\";\n",
       "                                  content.style.borderTopRightRadius = \"1px\";\n",
       "                              }\n",
       "                        }\n",
       "                      });\n",
       "                    }\n",
       "                    </script></div>"
      ],
      "text/plain": [
       "<IPython.core.display.HTML object>"
      ]
     },
     "metadata": {},
     "output_type": "display_data"
    },
    {
     "data": {
      "application/vnd.jupyter.widget-view+json": {
       "model_id": "36ab1423e053466aa002d61de7a84741",
       "version_major": 2,
       "version_minor": 0
      },
      "text/plain": [
       "HBox(children=(IntProgress(value=0, max=19), HTML(value='')))"
      ]
     },
     "metadata": {},
     "output_type": "display_data"
    },
    {
     "name": "stdout",
     "output_type": "stream",
     "text": [
      "\n"
     ]
    }
   ],
   "source": [
    "res = lr_pipeline.run_baseline(return_result = True)"
   ]
  },
  {
   "cell_type": "markdown",
   "metadata": {},
   "source": [
    "#### Create submission"
   ]
  },
  {
   "cell_type": "code",
   "execution_count": 5,
   "metadata": {},
   "outputs": [
    {
     "data": {
      "text/plain": [
       "0.3827751196172249"
      ]
     },
     "execution_count": 5,
     "metadata": {},
     "output_type": "execute_result"
    }
   ],
   "source": [
    "# Convert test_preds to int from probabilities\n",
    "\n",
    "# Since this competition requires values to be 0 or 1,\n",
    "# We have to adjust a decision threshold. While selecting this threshold,\n",
    "# criteria is to make mean value of test_preds to label in training set.\n",
    "# This step is not necessary in most projects\n",
    "test_preds = (res['test_preds'] > 0.55).astype('int')\n",
    "\n",
    "# Prepare submission file\n",
    "to_sub = sub.copy()\n",
    "to_sub[label_name] = test_preds\n",
    "to_sub.to_csv('titanic_sub.csv', index = False)\n",
    "test_preds.mean()\n",
    "\n",
    "# Baseline LB score: 0.76555"
   ]
  },
  {
   "cell_type": "markdown",
   "metadata": {},
   "source": [
    "#### Save project for following stages"
   ]
  },
  {
   "cell_type": "code",
   "execution_count": 6,
   "metadata": {},
   "outputs": [
    {
     "name": "stdout",
     "output_type": "stream",
     "text": [
      "Saving baseline function\n",
      "Saved project to lr_pipeline\n"
     ]
    }
   ],
   "source": [
    "lr_pipeline.save_project()"
   ]
  },
  {
   "cell_type": "code",
   "execution_count": null,
   "metadata": {},
   "outputs": [],
   "source": []
  }
 ],
 "metadata": {
  "kernelspec": {
   "display_name": "Python 3",
   "language": "python",
   "name": "python3"
  },
  "language_info": {
   "codemirror_mode": {
    "name": "ipython",
    "version": 3
   },
   "file_extension": ".py",
   "mimetype": "text/x-python",
   "name": "python",
   "nbconvert_exporter": "python",
   "pygments_lexer": "ipython3",
   "version": "3.6.9"
  },
  "widgets": {
   "application/vnd.jupyter.widget-state+json": {
    "state": {
     "030a1e7840e54301acb7d6bacf4c26c0": {
      "model_module": "@jupyter-widgets/controls",
      "model_module_version": "1.5.0",
      "model_name": "ProgressStyleModel",
      "state": {
       "description_width": "initial"
      }
     },
     "03b172452f854d54b745286a63cabf7e": {
      "model_module": "@jupyter-widgets/base",
      "model_module_version": "1.2.0",
      "model_name": "LayoutModel",
      "state": {}
     },
     "072c05bf87064b2e98a79c4d99548609": {
      "model_module": "@jupyter-widgets/controls",
      "model_module_version": "1.5.0",
      "model_name": "DescriptionStyleModel",
      "state": {
       "description_width": ""
      }
     },
     "0e80bf0ab22e4ed6a5de0e3ccbad7dce": {
      "model_module": "@jupyter-widgets/controls",
      "model_module_version": "1.5.0",
      "model_name": "HBoxModel",
      "state": {
       "children": [
        "IPY_MODEL_418993102196492c97b5487626733f64",
        "IPY_MODEL_d2da3aab77c9459bbd2368c879582cd1"
       ],
       "layout": "IPY_MODEL_03b172452f854d54b745286a63cabf7e"
      }
     },
     "1114cbf4df3946438d3f64b418a974a9": {
      "model_module": "@jupyter-widgets/controls",
      "model_module_version": "1.5.0",
      "model_name": "ProgressStyleModel",
      "state": {
       "description_width": "initial"
      }
     },
     "1a0c17d8b12b43bd9bf2ecf2ba4e36ee": {
      "model_module": "@jupyter-widgets/controls",
      "model_module_version": "1.5.0",
      "model_name": "HTMLModel",
      "state": {
       "layout": "IPY_MODEL_7bc9a8bf00f14714930007e8ee6a2099",
       "style": "IPY_MODEL_313d110451dc4090bd272d4fbd64f414",
       "value": " 19/19 [01:09&lt;00:00,  3.68s/it]"
      }
     },
     "242ada8f53f84a9f875ba7568dfc9a00": {
      "model_module": "@jupyter-widgets/controls",
      "model_module_version": "1.5.0",
      "model_name": "ProgressStyleModel",
      "state": {
       "description_width": "initial"
      }
     },
     "30d4c0bb55cb448fa294673404c81b0f": {
      "model_module": "@jupyter-widgets/controls",
      "model_module_version": "1.5.0",
      "model_name": "DescriptionStyleModel",
      "state": {
       "description_width": ""
      }
     },
     "313d110451dc4090bd272d4fbd64f414": {
      "model_module": "@jupyter-widgets/controls",
      "model_module_version": "1.5.0",
      "model_name": "DescriptionStyleModel",
      "state": {
       "description_width": ""
      }
     },
     "320fda3cc7684e939df5f7750ce30ca8": {
      "model_module": "@jupyter-widgets/controls",
      "model_module_version": "1.5.0",
      "model_name": "HBoxModel",
      "state": {
       "children": [
        "IPY_MODEL_71242befdc0a495c81a9b247bbb789e9",
        "IPY_MODEL_bec48dd649c548f1abcd2912182f6892"
       ],
       "layout": "IPY_MODEL_32831c0b749e44b3816ada515d9328c1"
      }
     },
     "32831c0b749e44b3816ada515d9328c1": {
      "model_module": "@jupyter-widgets/base",
      "model_module_version": "1.2.0",
      "model_name": "LayoutModel",
      "state": {}
     },
     "36ab1423e053466aa002d61de7a84741": {
      "model_module": "@jupyter-widgets/controls",
      "model_module_version": "1.5.0",
      "model_name": "HBoxModel",
      "state": {
       "children": [
        "IPY_MODEL_e530767022884e96b374deb0ccbfcbcd",
        "IPY_MODEL_70d2c401473240f9878bb84ad01fa146"
       ],
       "layout": "IPY_MODEL_e86dc22933d24acd9c331ad468b650f6"
      }
     },
     "3e6ce65917f44c0c939cd06628365013": {
      "model_module": "@jupyter-widgets/controls",
      "model_module_version": "1.5.0",
      "model_name": "HBoxModel",
      "state": {
       "children": [
        "IPY_MODEL_bf9ea4c2c2754a069a0e09e41d89d22e",
        "IPY_MODEL_1a0c17d8b12b43bd9bf2ecf2ba4e36ee"
       ],
       "layout": "IPY_MODEL_57bd09b427534140afd7b7c68f25bc12"
      }
     },
     "418993102196492c97b5487626733f64": {
      "model_module": "@jupyter-widgets/controls",
      "model_module_version": "1.5.0",
      "model_name": "IntProgressModel",
      "state": {
       "bar_style": "success",
       "description": "100%",
       "layout": "IPY_MODEL_6f66fe5bd0a6459e84394cdfaab3f2f9",
       "max": 17,
       "style": "IPY_MODEL_5168044d723841188ba1e5dbb073031f",
       "value": 17
      }
     },
     "438ba60f78d644408595932a49aa69c7": {
      "model_module": "@jupyter-widgets/controls",
      "model_module_version": "1.5.0",
      "model_name": "ProgressStyleModel",
      "state": {
       "description_width": "initial"
      }
     },
     "446976082dcd441da6b7727821635ecb": {
      "model_module": "@jupyter-widgets/controls",
      "model_module_version": "1.5.0",
      "model_name": "HBoxModel",
      "state": {
       "children": [
        "IPY_MODEL_77e5639c70674e9fb334a64c0986671d",
        "IPY_MODEL_b85eb37a8e60495bb296d469b01a8668"
       ],
       "layout": "IPY_MODEL_5bd0ae41b6354a25ac3b8e5d69b5025f"
      }
     },
     "5168044d723841188ba1e5dbb073031f": {
      "model_module": "@jupyter-widgets/controls",
      "model_module_version": "1.5.0",
      "model_name": "ProgressStyleModel",
      "state": {
       "description_width": "initial"
      }
     },
     "54e65b1ea739485495cc3a76c135304e": {
      "model_module": "@jupyter-widgets/base",
      "model_module_version": "1.2.0",
      "model_name": "LayoutModel",
      "state": {}
     },
     "57bd09b427534140afd7b7c68f25bc12": {
      "model_module": "@jupyter-widgets/base",
      "model_module_version": "1.2.0",
      "model_name": "LayoutModel",
      "state": {}
     },
     "5b4c13a4c2b349448a5adcc5c4eb1d5c": {
      "model_module": "@jupyter-widgets/base",
      "model_module_version": "1.2.0",
      "model_name": "LayoutModel",
      "state": {}
     },
     "5bd0ae41b6354a25ac3b8e5d69b5025f": {
      "model_module": "@jupyter-widgets/base",
      "model_module_version": "1.2.0",
      "model_name": "LayoutModel",
      "state": {}
     },
     "673530c63b30458bb971bb75d69b422d": {
      "model_module": "@jupyter-widgets/base",
      "model_module_version": "1.2.0",
      "model_name": "LayoutModel",
      "state": {}
     },
     "6f66fe5bd0a6459e84394cdfaab3f2f9": {
      "model_module": "@jupyter-widgets/base",
      "model_module_version": "1.2.0",
      "model_name": "LayoutModel",
      "state": {}
     },
     "70d2c401473240f9878bb84ad01fa146": {
      "model_module": "@jupyter-widgets/controls",
      "model_module_version": "1.5.0",
      "model_name": "HTMLModel",
      "state": {
       "layout": "IPY_MODEL_ab1b0a61f63048d8908d2dcda0798a26",
       "style": "IPY_MODEL_30d4c0bb55cb448fa294673404c81b0f",
       "value": " 19/19 [00:04&lt;00:00,  3.99it/s]"
      }
     },
     "71242befdc0a495c81a9b247bbb789e9": {
      "model_module": "@jupyter-widgets/controls",
      "model_module_version": "1.5.0",
      "model_name": "IntProgressModel",
      "state": {
       "bar_style": "success",
       "description": "100%",
       "layout": "IPY_MODEL_5b4c13a4c2b349448a5adcc5c4eb1d5c",
       "max": 15,
       "style": "IPY_MODEL_1114cbf4df3946438d3f64b418a974a9",
       "value": 15
      }
     },
     "77e5639c70674e9fb334a64c0986671d": {
      "model_module": "@jupyter-widgets/controls",
      "model_module_version": "1.5.0",
      "model_name": "IntProgressModel",
      "state": {
       "bar_style": "success",
       "description": "100%",
       "layout": "IPY_MODEL_54e65b1ea739485495cc3a76c135304e",
       "max": 11,
       "style": "IPY_MODEL_242ada8f53f84a9f875ba7568dfc9a00",
       "value": 11
      }
     },
     "7bc9a8bf00f14714930007e8ee6a2099": {
      "model_module": "@jupyter-widgets/base",
      "model_module_version": "1.2.0",
      "model_name": "LayoutModel",
      "state": {}
     },
     "848f041fc1f645c1b5df0fb1c3bfe284": {
      "model_module": "@jupyter-widgets/controls",
      "model_module_version": "1.5.0",
      "model_name": "DescriptionStyleModel",
      "state": {
       "description_width": ""
      }
     },
     "a76f3944b2324813ace9bc18fd317d48": {
      "model_module": "@jupyter-widgets/base",
      "model_module_version": "1.2.0",
      "model_name": "LayoutModel",
      "state": {}
     },
     "ab1b0a61f63048d8908d2dcda0798a26": {
      "model_module": "@jupyter-widgets/base",
      "model_module_version": "1.2.0",
      "model_name": "LayoutModel",
      "state": {}
     },
     "b85eb37a8e60495bb296d469b01a8668": {
      "model_module": "@jupyter-widgets/controls",
      "model_module_version": "1.5.0",
      "model_name": "HTMLModel",
      "state": {
       "layout": "IPY_MODEL_d19c49c98a15438bb825404f1d24ce71",
       "style": "IPY_MODEL_ca41a016922a4851b4740b595365616f",
       "value": " 11/11 [00:02&lt;00:00,  3.74it/s]"
      }
     },
     "bec48dd649c548f1abcd2912182f6892": {
      "model_module": "@jupyter-widgets/controls",
      "model_module_version": "1.5.0",
      "model_name": "HTMLModel",
      "state": {
       "layout": "IPY_MODEL_673530c63b30458bb971bb75d69b422d",
       "style": "IPY_MODEL_848f041fc1f645c1b5df0fb1c3bfe284",
       "value": " 15/15 [00:03&lt;00:00,  4.07it/s]"
      }
     },
     "bf9ea4c2c2754a069a0e09e41d89d22e": {
      "model_module": "@jupyter-widgets/controls",
      "model_module_version": "1.5.0",
      "model_name": "IntProgressModel",
      "state": {
       "bar_style": "success",
       "description": "100%",
       "layout": "IPY_MODEL_d99c306a9cab4017b7d2e031a2efa0ac",
       "max": 19,
       "style": "IPY_MODEL_030a1e7840e54301acb7d6bacf4c26c0",
       "value": 19
      }
     },
     "ca41a016922a4851b4740b595365616f": {
      "model_module": "@jupyter-widgets/controls",
      "model_module_version": "1.5.0",
      "model_name": "DescriptionStyleModel",
      "state": {
       "description_width": ""
      }
     },
     "cfb0ad75f22d4b48a7d6050fdaee3505": {
      "model_module": "@jupyter-widgets/base",
      "model_module_version": "1.2.0",
      "model_name": "LayoutModel",
      "state": {}
     },
     "d19c49c98a15438bb825404f1d24ce71": {
      "model_module": "@jupyter-widgets/base",
      "model_module_version": "1.2.0",
      "model_name": "LayoutModel",
      "state": {}
     },
     "d2da3aab77c9459bbd2368c879582cd1": {
      "model_module": "@jupyter-widgets/controls",
      "model_module_version": "1.5.0",
      "model_name": "HTMLModel",
      "state": {
       "layout": "IPY_MODEL_cfb0ad75f22d4b48a7d6050fdaee3505",
       "style": "IPY_MODEL_072c05bf87064b2e98a79c4d99548609",
       "value": " 17/17 [00:04&lt;00:00,  3.97it/s]"
      }
     },
     "d99c306a9cab4017b7d2e031a2efa0ac": {
      "model_module": "@jupyter-widgets/base",
      "model_module_version": "1.2.0",
      "model_name": "LayoutModel",
      "state": {}
     },
     "e530767022884e96b374deb0ccbfcbcd": {
      "model_module": "@jupyter-widgets/controls",
      "model_module_version": "1.5.0",
      "model_name": "IntProgressModel",
      "state": {
       "bar_style": "success",
       "description": "100%",
       "layout": "IPY_MODEL_a76f3944b2324813ace9bc18fd317d48",
       "max": 19,
       "style": "IPY_MODEL_438ba60f78d644408595932a49aa69c7",
       "value": 19
      }
     },
     "e86dc22933d24acd9c331ad468b650f6": {
      "model_module": "@jupyter-widgets/base",
      "model_module_version": "1.2.0",
      "model_name": "LayoutModel",
      "state": {}
     }
    },
    "version_major": 2,
    "version_minor": 0
   }
  }
 },
 "nbformat": 4,
 "nbformat_minor": 4
}
